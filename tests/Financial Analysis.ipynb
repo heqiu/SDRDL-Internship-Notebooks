{
 "metadata": {
  "name": "",
  "signature": "sha256:c494285becd949bba9d03fc8c8dc716d590ec5ff15e0f67d41520d84d709e370"
 },
 "nbformat": 3,
 "nbformat_minor": 0,
 "worksheets": [
  {
   "cells": [
    {
     "cell_type": "heading",
     "level": 1,
     "metadata": {},
     "source": [
      "Financial Analysis in Python"
     ]
    },
    {
     "cell_type": "markdown",
     "metadata": {},
     "source": [
      "What you will learn in this tutorial\n",
      "------------------------------------\n",
      "\n",
      "* Timeseries analysis using Pandas\n",
      "* Using Google Trends to predict market movements\n",
      "* Build your own trading strategy using Zipline\n",
      "* Common trading strategies:\n",
      "   * Momentum trading\n",
      "   * Mean-reversion"
     ]
    },
    {
     "cell_type": "markdown",
     "metadata": {},
     "source": [
      "Different stages towards a successful trading strategy\n",
      "------------------------------------------------------\n",
      "\n",
      "1. Data analysis / Idea generation\n",
      "   * Pandas + Matplotlib (Part I)\n",
      "2. Backtest strategy\n",
      "   * Pandas can be used but many limitations (Part II)\n",
      "   * -> Zipline (Part III)\n",
      "3. Optimize\n",
      "   * See my previous [PyData talk](http://blog.quantopian.com/zipline_in_the_cloud/)\n",
      "4. Forward test strategy (paper trading)\n",
      "   * Trivial on Quantopian (Part IV)\n",
      "5. Live trading!\n",
      "   * Coming soon..."
     ]
    },
    {
     "cell_type": "markdown",
     "metadata": {},
     "source": [
      "This notebook was adapted from [Thomas Wiecki's tutorial on financial analysis.](https://github.com/twiecki/financial-analysis-python-tutorial)"
     ]
    },
    {
     "cell_type": "markdown",
     "metadata": {},
     "source": [
      "Henry Qiu\n",
      "I created a chart that tracks Google's stock [251],\n",
      "as well as the standard deviation of IBM's price [272], which was \"28.586620016589336\"\n",
      "and finally the mean volume of Apple's stock [287], which was \"188289640.74074075\". \n"
     ]
    },
    {
     "cell_type": "heading",
     "level": 1,
     "metadata": {},
     "source": [
      "Pandas basics (Data analysis / Idea generation)"
     ]
    },
    {
     "cell_type": "code",
     "collapsed": false,
     "input": [
      "%matplotlib inline\n",
      "import numpy as np\n",
      "\n"
     ],
     "language": "python",
     "metadata": {},
     "outputs": [],
     "prompt_number": 315
    },
    {
     "cell_type": "code",
     "collapsed": false,
     "input": [
      "from IPython.core.display import HTML\n",
      "HTML(\"<iframe src=http://pandas.pydata.org width=800 height=350></iframe>\")"
     ],
     "language": "python",
     "metadata": {},
     "outputs": [
      {
       "html": [
        "<iframe src=http://pandas.pydata.org width=800 height=350></iframe>"
       ],
       "metadata": {},
       "output_type": "pyout",
       "prompt_number": 316,
       "text": [
        "<IPython.core.display.HTML at 0x7880650>"
       ]
      }
     ],
     "prompt_number": 316
    },
    {
     "cell_type": "code",
     "collapsed": false,
     "input": [
      "import datetime\n",
      "\n",
      "import pandas as pd\n",
      "import pandas.io.data\n",
      "from pandas import Series, DataFrame\n",
      "pd.__version__"
     ],
     "language": "python",
     "metadata": {},
     "outputs": [
      {
       "metadata": {},
       "output_type": "pyout",
       "prompt_number": 317,
       "text": [
        "'0.13.1'"
       ]
      }
     ],
     "prompt_number": 317
    },
    {
     "cell_type": "code",
     "collapsed": false,
     "input": [
      "import matplotlib.pyplot as plt\n",
      "import matplotlib as mpl\n",
      "mpl.rc('figure', figsize=(8, 7))\n",
      "mpl.__version__"
     ],
     "language": "python",
     "metadata": {},
     "outputs": [
      {
       "metadata": {},
       "output_type": "pyout",
       "prompt_number": 318,
       "text": [
        "'1.3.1'"
       ]
      }
     ],
     "prompt_number": 318
    },
    {
     "cell_type": "markdown",
     "metadata": {},
     "source": [
      "Creating/loading time series data\n",
      "===================\n",
      "\n",
      "* From Python structures\n",
      "* From Yahoo finance\n",
      "* From CSV files"
     ]
    },
    {
     "cell_type": "heading",
     "level": 3,
     "metadata": {},
     "source": [
      "From Python structures"
     ]
    },
    {
     "cell_type": "code",
     "collapsed": false,
     "input": [
      "labels = ['a', 'b', 'c', 'd', 'e']\n",
      "s = Series([1, 2, 3, 4, 5], index=labels)\n",
      "s"
     ],
     "language": "python",
     "metadata": {},
     "outputs": [
      {
       "metadata": {},
       "output_type": "pyout",
       "prompt_number": 319,
       "text": [
        "a    1\n",
        "b    2\n",
        "c    3\n",
        "d    4\n",
        "e    5\n",
        "dtype: int64"
       ]
      }
     ],
     "prompt_number": 319
    },
    {
     "cell_type": "code",
     "collapsed": false,
     "input": [
      "'b' in s"
     ],
     "language": "python",
     "metadata": {},
     "outputs": [
      {
       "metadata": {},
       "output_type": "pyout",
       "prompt_number": 320,
       "text": [
        "True"
       ]
      }
     ],
     "prompt_number": 320
    },
    {
     "cell_type": "code",
     "collapsed": false,
     "input": [
      "s['b']"
     ],
     "language": "python",
     "metadata": {},
     "outputs": [
      {
       "metadata": {},
       "output_type": "pyout",
       "prompt_number": 321,
       "text": [
        "2"
       ]
      }
     ],
     "prompt_number": 321
    },
    {
     "cell_type": "code",
     "collapsed": false,
     "input": [
      "mapping = s.to_dict()\n",
      "mapping"
     ],
     "language": "python",
     "metadata": {},
     "outputs": [
      {
       "metadata": {},
       "output_type": "pyout",
       "prompt_number": 322,
       "text": [
        "{'a': 1, 'b': 2, 'c': 3, 'd': 4, 'e': 5}"
       ]
      }
     ],
     "prompt_number": 322
    },
    {
     "cell_type": "code",
     "collapsed": false,
     "input": [
      "Series(mapping)"
     ],
     "language": "python",
     "metadata": {},
     "outputs": [
      {
       "metadata": {},
       "output_type": "pyout",
       "prompt_number": 323,
       "text": [
        "a    1\n",
        "b    2\n",
        "c    3\n",
        "d    4\n",
        "e    5\n",
        "dtype: int64"
       ]
      }
     ],
     "prompt_number": 323
    },
    {
     "cell_type": "heading",
     "level": 3,
     "metadata": {},
     "source": [
      "From Yahoo finance"
     ]
    },
    {
     "cell_type": "code",
     "collapsed": false,
     "input": [
      "aapl = pd.io.data.get_data_yahoo('AAPL', \n",
      "                                 start=datetime.datetime(2006, 10, 1), \n",
      "                                 end=datetime.datetime(2012, 1, 1))\n",
      "aapl.head()\n"
     ],
     "language": "python",
     "metadata": {},
     "outputs": [
      {
       "html": [
        "<div style=\"max-height:1000px;max-width:1500px;overflow:auto;\">\n",
        "<table border=\"1\" class=\"dataframe\">\n",
        "  <thead>\n",
        "    <tr style=\"text-align: right;\">\n",
        "      <th></th>\n",
        "      <th>Open</th>\n",
        "      <th>High</th>\n",
        "      <th>Low</th>\n",
        "      <th>Close</th>\n",
        "      <th>Volume</th>\n",
        "      <th>Adj Close</th>\n",
        "    </tr>\n",
        "    <tr>\n",
        "      <th>Date</th>\n",
        "      <th></th>\n",
        "      <th></th>\n",
        "      <th></th>\n",
        "      <th></th>\n",
        "      <th></th>\n",
        "      <th></th>\n",
        "    </tr>\n",
        "  </thead>\n",
        "  <tbody>\n",
        "    <tr>\n",
        "      <th>2006-10-02</th>\n",
        "      <td> 75.10</td>\n",
        "      <td> 75.87</td>\n",
        "      <td> 74.30</td>\n",
        "      <td> 74.86</td>\n",
        "      <td> 178159800</td>\n",
        "      <td> 10.22</td>\n",
        "    </tr>\n",
        "    <tr>\n",
        "      <th>2006-10-03</th>\n",
        "      <td> 74.45</td>\n",
        "      <td> 74.95</td>\n",
        "      <td> 73.19</td>\n",
        "      <td> 74.08</td>\n",
        "      <td> 197677200</td>\n",
        "      <td> 10.12</td>\n",
        "    </tr>\n",
        "    <tr>\n",
        "      <th>2006-10-04</th>\n",
        "      <td> 74.10</td>\n",
        "      <td> 75.46</td>\n",
        "      <td> 73.16</td>\n",
        "      <td> 75.38</td>\n",
        "      <td> 207270700</td>\n",
        "      <td> 10.29</td>\n",
        "    </tr>\n",
        "    <tr>\n",
        "      <th>2006-10-05</th>\n",
        "      <td> 74.53</td>\n",
        "      <td> 76.16</td>\n",
        "      <td> 74.13</td>\n",
        "      <td> 74.83</td>\n",
        "      <td> 170970800</td>\n",
        "      <td> 10.22</td>\n",
        "    </tr>\n",
        "    <tr>\n",
        "      <th>2006-10-06</th>\n",
        "      <td> 74.42</td>\n",
        "      <td> 75.04</td>\n",
        "      <td> 73.81</td>\n",
        "      <td> 74.22</td>\n",
        "      <td> 116739700</td>\n",
        "      <td> 10.13</td>\n",
        "    </tr>\n",
        "  </tbody>\n",
        "</table>\n",
        "<p>5 rows \u00d7 6 columns</p>\n",
        "</div>"
       ],
       "metadata": {},
       "output_type": "pyout",
       "prompt_number": 324,
       "text": [
        "             Open   High    Low  Close     Volume  Adj Close\n",
        "Date                                                        \n",
        "2006-10-02  75.10  75.87  74.30  74.86  178159800      10.22\n",
        "2006-10-03  74.45  74.95  73.19  74.08  197677200      10.12\n",
        "2006-10-04  74.10  75.46  73.16  75.38  207270700      10.29\n",
        "2006-10-05  74.53  76.16  74.13  74.83  170970800      10.22\n",
        "2006-10-06  74.42  75.04  73.81  74.22  116739700      10.13\n",
        "\n",
        "[5 rows x 6 columns]"
       ]
      }
     ],
     "prompt_number": 324
    },
    {
     "cell_type": "code",
     "collapsed": false,
     "input": [
      "goog = pd.io.data.get_data_yahoo('GOOG', start = datetime.datetime(2010, 10, 1), \n",
      "                                 end = datetime.datetime(2014, 5, 16))\n",
      "goog.head()\n",
      "\n",
      "\n"
     ],
     "language": "python",
     "metadata": {},
     "outputs": [
      {
       "html": [
        "<div style=\"max-height:1000px;max-width:1500px;overflow:auto;\">\n",
        "<table border=\"1\" class=\"dataframe\">\n",
        "  <thead>\n",
        "    <tr style=\"text-align: right;\">\n",
        "      <th></th>\n",
        "      <th>Open</th>\n",
        "      <th>High</th>\n",
        "      <th>Low</th>\n",
        "      <th>Close</th>\n",
        "      <th>Volume</th>\n",
        "      <th>Adj Close</th>\n",
        "    </tr>\n",
        "    <tr>\n",
        "      <th>Date</th>\n",
        "      <th></th>\n",
        "      <th></th>\n",
        "      <th></th>\n",
        "      <th></th>\n",
        "      <th></th>\n",
        "      <th></th>\n",
        "    </tr>\n",
        "  </thead>\n",
        "  <tbody>\n",
        "    <tr>\n",
        "      <th>2014-03-27</th>\n",
        "      <td> 568.00</td>\n",
        "      <td> 568.00</td>\n",
        "      <td> 552.92</td>\n",
        "      <td> 558.46</td>\n",
        "      <td>  13100</td>\n",
        "      <td> 558.46</td>\n",
        "    </tr>\n",
        "    <tr>\n",
        "      <th>2014-03-28</th>\n",
        "      <td> 561.20</td>\n",
        "      <td> 566.43</td>\n",
        "      <td> 558.67</td>\n",
        "      <td> 559.99</td>\n",
        "      <td>  41100</td>\n",
        "      <td> 559.99</td>\n",
        "    </tr>\n",
        "    <tr>\n",
        "      <th>2014-03-31</th>\n",
        "      <td> 566.89</td>\n",
        "      <td> 567.00</td>\n",
        "      <td> 556.93</td>\n",
        "      <td> 556.97</td>\n",
        "      <td>  10800</td>\n",
        "      <td> 556.97</td>\n",
        "    </tr>\n",
        "    <tr>\n",
        "      <th>2014-04-01</th>\n",
        "      <td> 558.71</td>\n",
        "      <td> 568.45</td>\n",
        "      <td> 558.71</td>\n",
        "      <td> 567.16</td>\n",
        "      <td>   7900</td>\n",
        "      <td> 567.16</td>\n",
        "    </tr>\n",
        "    <tr>\n",
        "      <th>2014-04-02</th>\n",
        "      <td> 599.99</td>\n",
        "      <td> 604.83</td>\n",
        "      <td> 562.19</td>\n",
        "      <td> 567.00</td>\n",
        "      <td> 146700</td>\n",
        "      <td> 567.00</td>\n",
        "    </tr>\n",
        "  </tbody>\n",
        "</table>\n",
        "<p>5 rows \u00d7 6 columns</p>\n",
        "</div>"
       ],
       "metadata": {},
       "output_type": "pyout",
       "prompt_number": 325,
       "text": [
        "              Open    High     Low   Close  Volume  Adj Close\n",
        "Date                                                         \n",
        "2014-03-27  568.00  568.00  552.92  558.46   13100     558.46\n",
        "2014-03-28  561.20  566.43  558.67  559.99   41100     559.99\n",
        "2014-03-31  566.89  567.00  556.93  556.97   10800     556.97\n",
        "2014-04-01  558.71  568.45  558.71  567.16    7900     567.16\n",
        "2014-04-02  599.99  604.83  562.19  567.00  146700     567.00\n",
        "\n",
        "[5 rows x 6 columns]"
       ]
      }
     ],
     "prompt_number": 325
    },
    {
     "cell_type": "code",
     "collapsed": false,
     "input": [
      "aapl.Volume.mean()"
     ],
     "language": "python",
     "metadata": {},
     "outputs": [
      {
       "metadata": {},
       "output_type": "pyout",
       "prompt_number": 326,
       "text": [
        "188289640.74074075"
       ]
      }
     ],
     "prompt_number": 326
    },
    {
     "cell_type": "heading",
     "level": 3,
     "metadata": {},
     "source": [
      "From CSV files"
     ]
    },
    {
     "cell_type": "code",
     "collapsed": false,
     "input": [
      "aapl.to_csv('aapl_ohlc.csv')\n",
      "!head aapl_ohlc.csv"
     ],
     "language": "python",
     "metadata": {},
     "outputs": [
      {
       "output_type": "stream",
       "stream": "stdout",
       "text": [
        "Date,Open,High,Low,Close,Volume,Adj Close\r\n",
        "2006-10-02,75.1,75.87,74.3,74.86,178159800,10.22\r\n",
        "2006-10-03,74.45,74.95,73.19,74.08,197677200,10.12\r\n",
        "2006-10-04,74.1,75.46,73.16,75.38,207270700,10.29\r\n",
        "2006-10-05,74.53,76.16,74.13,74.83,170970800,10.22\r\n",
        "2006-10-06,74.42,75.04,73.81,74.22,116739700,10.13\r\n",
        "2006-10-09,73.8,75.08,73.53,74.63,109555600,10.19\r\n",
        "2006-10-10,74.54,74.58,73.08,73.81,132897100,10.08\r\n",
        "2006-10-11,73.42,73.98,72.6,73.23,142963800,10.0\r\n",
        "2006-10-12,73.61,75.39,73.6,75.26,148213800,10.28\r\n"
       ]
      }
     ],
     "prompt_number": 327
    },
    {
     "cell_type": "code",
     "collapsed": false,
     "input": [
      "df = pd.read_csv('aapl_ohlc.csv', index_col='Date', parse_dates=True)\n",
      "df.head()"
     ],
     "language": "python",
     "metadata": {},
     "outputs": [
      {
       "html": [
        "<div style=\"max-height:1000px;max-width:1500px;overflow:auto;\">\n",
        "<table border=\"1\" class=\"dataframe\">\n",
        "  <thead>\n",
        "    <tr style=\"text-align: right;\">\n",
        "      <th></th>\n",
        "      <th>Open</th>\n",
        "      <th>High</th>\n",
        "      <th>Low</th>\n",
        "      <th>Close</th>\n",
        "      <th>Volume</th>\n",
        "      <th>Adj Close</th>\n",
        "    </tr>\n",
        "    <tr>\n",
        "      <th>Date</th>\n",
        "      <th></th>\n",
        "      <th></th>\n",
        "      <th></th>\n",
        "      <th></th>\n",
        "      <th></th>\n",
        "      <th></th>\n",
        "    </tr>\n",
        "  </thead>\n",
        "  <tbody>\n",
        "    <tr>\n",
        "      <th>2006-10-02</th>\n",
        "      <td> 75.10</td>\n",
        "      <td> 75.87</td>\n",
        "      <td> 74.30</td>\n",
        "      <td> 74.86</td>\n",
        "      <td> 178159800</td>\n",
        "      <td> 10.22</td>\n",
        "    </tr>\n",
        "    <tr>\n",
        "      <th>2006-10-03</th>\n",
        "      <td> 74.45</td>\n",
        "      <td> 74.95</td>\n",
        "      <td> 73.19</td>\n",
        "      <td> 74.08</td>\n",
        "      <td> 197677200</td>\n",
        "      <td> 10.12</td>\n",
        "    </tr>\n",
        "    <tr>\n",
        "      <th>2006-10-04</th>\n",
        "      <td> 74.10</td>\n",
        "      <td> 75.46</td>\n",
        "      <td> 73.16</td>\n",
        "      <td> 75.38</td>\n",
        "      <td> 207270700</td>\n",
        "      <td> 10.29</td>\n",
        "    </tr>\n",
        "    <tr>\n",
        "      <th>2006-10-05</th>\n",
        "      <td> 74.53</td>\n",
        "      <td> 76.16</td>\n",
        "      <td> 74.13</td>\n",
        "      <td> 74.83</td>\n",
        "      <td> 170970800</td>\n",
        "      <td> 10.22</td>\n",
        "    </tr>\n",
        "    <tr>\n",
        "      <th>2006-10-06</th>\n",
        "      <td> 74.42</td>\n",
        "      <td> 75.04</td>\n",
        "      <td> 73.81</td>\n",
        "      <td> 74.22</td>\n",
        "      <td> 116739700</td>\n",
        "      <td> 10.13</td>\n",
        "    </tr>\n",
        "  </tbody>\n",
        "</table>\n",
        "<p>5 rows \u00d7 6 columns</p>\n",
        "</div>"
       ],
       "metadata": {},
       "output_type": "pyout",
       "prompt_number": 328,
       "text": [
        "             Open   High    Low  Close     Volume  Adj Close\n",
        "Date                                                        \n",
        "2006-10-02  75.10  75.87  74.30  74.86  178159800      10.22\n",
        "2006-10-03  74.45  74.95  73.19  74.08  197677200      10.12\n",
        "2006-10-04  74.10  75.46  73.16  75.38  207270700      10.29\n",
        "2006-10-05  74.53  76.16  74.13  74.83  170970800      10.22\n",
        "2006-10-06  74.42  75.04  73.81  74.22  116739700      10.13\n",
        "\n",
        "[5 rows x 6 columns]"
       ]
      }
     ],
     "prompt_number": 328
    },
    {
     "cell_type": "code",
     "collapsed": false,
     "input": [
      "df.Volume.mean()"
     ],
     "language": "python",
     "metadata": {},
     "outputs": [
      {
       "metadata": {},
       "output_type": "pyout",
       "prompt_number": 329,
       "text": [
        "188289640.74074075"
       ]
      }
     ],
     "prompt_number": 329
    },
    {
     "cell_type": "code",
     "collapsed": false,
     "input": [
      "df.index"
     ],
     "language": "python",
     "metadata": {},
     "outputs": [
      {
       "metadata": {},
       "output_type": "pyout",
       "prompt_number": 330,
       "text": [
        "<class 'pandas.tseries.index.DatetimeIndex'>\n",
        "[2006-10-02, ..., 2011-12-30]\n",
        "Length: 1323, Freq: None, Timezone: None"
       ]
      }
     ],
     "prompt_number": 330
    },
    {
     "cell_type": "markdown",
     "metadata": {},
     "source": [
      "Series and DataFrame: First steps\n",
      "=================================\n",
      "\n",
      "* Indexing\n",
      "* Slicing\n",
      "* Creating new columns"
     ]
    },
    {
     "cell_type": "code",
     "collapsed": false,
     "input": [
      "ts = df['Close'][-10:]\n",
      "ts\n"
     ],
     "language": "python",
     "metadata": {},
     "outputs": [
      {
       "metadata": {},
       "output_type": "pyout",
       "prompt_number": 331,
       "text": [
        "Date\n",
        "2011-12-16    381.02\n",
        "2011-12-19    382.21\n",
        "2011-12-20    395.95\n",
        "2011-12-21    396.45\n",
        "2011-12-22    398.55\n",
        "2011-12-23    403.33\n",
        "2011-12-27    406.53\n",
        "2011-12-28    402.64\n",
        "2011-12-29    405.12\n",
        "2011-12-30    405.00\n",
        "Name: Close, dtype: float64"
       ]
      }
     ],
     "prompt_number": 331
    },
    {
     "cell_type": "markdown",
     "metadata": {},
     "source": [
      "A DataFrame is a collection of Series objects. Slicing out a DataFrame column returns a Series."
     ]
    },
    {
     "cell_type": "code",
     "collapsed": false,
     "input": [
      "type(ts)"
     ],
     "language": "python",
     "metadata": {},
     "outputs": [
      {
       "metadata": {},
       "output_type": "pyout",
       "prompt_number": 332,
       "text": [
        "pandas.core.series.Series"
       ]
      }
     ],
     "prompt_number": 332
    },
    {
     "cell_type": "code",
     "collapsed": false,
     "input": [
      "date = ts.index[5]\n",
      "date"
     ],
     "language": "python",
     "metadata": {},
     "outputs": [
      {
       "metadata": {},
       "output_type": "pyout",
       "prompt_number": 333,
       "text": [
        "Timestamp('2011-12-23 00:00:00', tz=None)"
       ]
      }
     ],
     "prompt_number": 333
    },
    {
     "cell_type": "code",
     "collapsed": false,
     "input": [
      "ts[date]"
     ],
     "language": "python",
     "metadata": {},
     "outputs": [
      {
       "metadata": {},
       "output_type": "pyout",
       "prompt_number": 334,
       "text": [
        "403.32999999999998"
       ]
      }
     ],
     "prompt_number": 334
    },
    {
     "cell_type": "code",
     "collapsed": false,
     "input": [
      "ts[5]"
     ],
     "language": "python",
     "metadata": {},
     "outputs": [
      {
       "metadata": {},
       "output_type": "pyout",
       "prompt_number": 335,
       "text": [
        "403.32999999999998"
       ]
      }
     ],
     "prompt_number": 335
    },
    {
     "cell_type": "markdown",
     "metadata": {},
     "source": [
      "We can also select multiple columns."
     ]
    },
    {
     "cell_type": "code",
     "collapsed": false,
     "input": [
      "df[['Open', 'Close']].head()"
     ],
     "language": "python",
     "metadata": {},
     "outputs": [
      {
       "html": [
        "<div style=\"max-height:1000px;max-width:1500px;overflow:auto;\">\n",
        "<table border=\"1\" class=\"dataframe\">\n",
        "  <thead>\n",
        "    <tr style=\"text-align: right;\">\n",
        "      <th></th>\n",
        "      <th>Open</th>\n",
        "      <th>Close</th>\n",
        "    </tr>\n",
        "    <tr>\n",
        "      <th>Date</th>\n",
        "      <th></th>\n",
        "      <th></th>\n",
        "    </tr>\n",
        "  </thead>\n",
        "  <tbody>\n",
        "    <tr>\n",
        "      <th>2006-10-02</th>\n",
        "      <td> 75.10</td>\n",
        "      <td> 74.86</td>\n",
        "    </tr>\n",
        "    <tr>\n",
        "      <th>2006-10-03</th>\n",
        "      <td> 74.45</td>\n",
        "      <td> 74.08</td>\n",
        "    </tr>\n",
        "    <tr>\n",
        "      <th>2006-10-04</th>\n",
        "      <td> 74.10</td>\n",
        "      <td> 75.38</td>\n",
        "    </tr>\n",
        "    <tr>\n",
        "      <th>2006-10-05</th>\n",
        "      <td> 74.53</td>\n",
        "      <td> 74.83</td>\n",
        "    </tr>\n",
        "    <tr>\n",
        "      <th>2006-10-06</th>\n",
        "      <td> 74.42</td>\n",
        "      <td> 74.22</td>\n",
        "    </tr>\n",
        "  </tbody>\n",
        "</table>\n",
        "<p>5 rows \u00d7 2 columns</p>\n",
        "</div>"
       ],
       "metadata": {},
       "output_type": "pyout",
       "prompt_number": 336,
       "text": [
        "             Open  Close\n",
        "Date                    \n",
        "2006-10-02  75.10  74.86\n",
        "2006-10-03  74.45  74.08\n",
        "2006-10-04  74.10  75.38\n",
        "2006-10-05  74.53  74.83\n",
        "2006-10-06  74.42  74.22\n",
        "\n",
        "[5 rows x 2 columns]"
       ]
      }
     ],
     "prompt_number": 336
    },
    {
     "cell_type": "markdown",
     "metadata": {},
     "source": [
      "New columns can be added on the fly."
     ]
    },
    {
     "cell_type": "code",
     "collapsed": false,
     "input": [
      "df['diff'] = df.Open - df.Close\n",
      "df.head()"
     ],
     "language": "python",
     "metadata": {},
     "outputs": [
      {
       "html": [
        "<div style=\"max-height:1000px;max-width:1500px;overflow:auto;\">\n",
        "<table border=\"1\" class=\"dataframe\">\n",
        "  <thead>\n",
        "    <tr style=\"text-align: right;\">\n",
        "      <th></th>\n",
        "      <th>Open</th>\n",
        "      <th>High</th>\n",
        "      <th>Low</th>\n",
        "      <th>Close</th>\n",
        "      <th>Volume</th>\n",
        "      <th>Adj Close</th>\n",
        "      <th>diff</th>\n",
        "    </tr>\n",
        "    <tr>\n",
        "      <th>Date</th>\n",
        "      <th></th>\n",
        "      <th></th>\n",
        "      <th></th>\n",
        "      <th></th>\n",
        "      <th></th>\n",
        "      <th></th>\n",
        "      <th></th>\n",
        "    </tr>\n",
        "  </thead>\n",
        "  <tbody>\n",
        "    <tr>\n",
        "      <th>2006-10-02</th>\n",
        "      <td> 75.10</td>\n",
        "      <td> 75.87</td>\n",
        "      <td> 74.30</td>\n",
        "      <td> 74.86</td>\n",
        "      <td> 178159800</td>\n",
        "      <td> 10.22</td>\n",
        "      <td> 0.24</td>\n",
        "    </tr>\n",
        "    <tr>\n",
        "      <th>2006-10-03</th>\n",
        "      <td> 74.45</td>\n",
        "      <td> 74.95</td>\n",
        "      <td> 73.19</td>\n",
        "      <td> 74.08</td>\n",
        "      <td> 197677200</td>\n",
        "      <td> 10.12</td>\n",
        "      <td> 0.37</td>\n",
        "    </tr>\n",
        "    <tr>\n",
        "      <th>2006-10-04</th>\n",
        "      <td> 74.10</td>\n",
        "      <td> 75.46</td>\n",
        "      <td> 73.16</td>\n",
        "      <td> 75.38</td>\n",
        "      <td> 207270700</td>\n",
        "      <td> 10.29</td>\n",
        "      <td>-1.28</td>\n",
        "    </tr>\n",
        "    <tr>\n",
        "      <th>2006-10-05</th>\n",
        "      <td> 74.53</td>\n",
        "      <td> 76.16</td>\n",
        "      <td> 74.13</td>\n",
        "      <td> 74.83</td>\n",
        "      <td> 170970800</td>\n",
        "      <td> 10.22</td>\n",
        "      <td>-0.30</td>\n",
        "    </tr>\n",
        "    <tr>\n",
        "      <th>2006-10-06</th>\n",
        "      <td> 74.42</td>\n",
        "      <td> 75.04</td>\n",
        "      <td> 73.81</td>\n",
        "      <td> 74.22</td>\n",
        "      <td> 116739700</td>\n",
        "      <td> 10.13</td>\n",
        "      <td> 0.20</td>\n",
        "    </tr>\n",
        "  </tbody>\n",
        "</table>\n",
        "<p>5 rows \u00d7 7 columns</p>\n",
        "</div>"
       ],
       "metadata": {},
       "output_type": "pyout",
       "prompt_number": 337,
       "text": [
        "             Open   High    Low  Close     Volume  Adj Close  diff\n",
        "Date                                                              \n",
        "2006-10-02  75.10  75.87  74.30  74.86  178159800      10.22  0.24\n",
        "2006-10-03  74.45  74.95  73.19  74.08  197677200      10.12  0.37\n",
        "2006-10-04  74.10  75.46  73.16  75.38  207270700      10.29 -1.28\n",
        "2006-10-05  74.53  76.16  74.13  74.83  170970800      10.22 -0.30\n",
        "2006-10-06  74.42  75.04  73.81  74.22  116739700      10.13  0.20\n",
        "\n",
        "[5 rows x 7 columns]"
       ]
      }
     ],
     "prompt_number": 337
    },
    {
     "cell_type": "markdown",
     "metadata": {},
     "source": [
      "...and deleted on the fly."
     ]
    },
    {
     "cell_type": "code",
     "collapsed": false,
     "input": [
      "del df['diff']\n",
      "df.head()"
     ],
     "language": "python",
     "metadata": {},
     "outputs": [
      {
       "html": [
        "<div style=\"max-height:1000px;max-width:1500px;overflow:auto;\">\n",
        "<table border=\"1\" class=\"dataframe\">\n",
        "  <thead>\n",
        "    <tr style=\"text-align: right;\">\n",
        "      <th></th>\n",
        "      <th>Open</th>\n",
        "      <th>High</th>\n",
        "      <th>Low</th>\n",
        "      <th>Close</th>\n",
        "      <th>Volume</th>\n",
        "      <th>Adj Close</th>\n",
        "    </tr>\n",
        "    <tr>\n",
        "      <th>Date</th>\n",
        "      <th></th>\n",
        "      <th></th>\n",
        "      <th></th>\n",
        "      <th></th>\n",
        "      <th></th>\n",
        "      <th></th>\n",
        "    </tr>\n",
        "  </thead>\n",
        "  <tbody>\n",
        "    <tr>\n",
        "      <th>2006-10-02</th>\n",
        "      <td> 75.10</td>\n",
        "      <td> 75.87</td>\n",
        "      <td> 74.30</td>\n",
        "      <td> 74.86</td>\n",
        "      <td> 178159800</td>\n",
        "      <td> 10.22</td>\n",
        "    </tr>\n",
        "    <tr>\n",
        "      <th>2006-10-03</th>\n",
        "      <td> 74.45</td>\n",
        "      <td> 74.95</td>\n",
        "      <td> 73.19</td>\n",
        "      <td> 74.08</td>\n",
        "      <td> 197677200</td>\n",
        "      <td> 10.12</td>\n",
        "    </tr>\n",
        "    <tr>\n",
        "      <th>2006-10-04</th>\n",
        "      <td> 74.10</td>\n",
        "      <td> 75.46</td>\n",
        "      <td> 73.16</td>\n",
        "      <td> 75.38</td>\n",
        "      <td> 207270700</td>\n",
        "      <td> 10.29</td>\n",
        "    </tr>\n",
        "    <tr>\n",
        "      <th>2006-10-05</th>\n",
        "      <td> 74.53</td>\n",
        "      <td> 76.16</td>\n",
        "      <td> 74.13</td>\n",
        "      <td> 74.83</td>\n",
        "      <td> 170970800</td>\n",
        "      <td> 10.22</td>\n",
        "    </tr>\n",
        "    <tr>\n",
        "      <th>2006-10-06</th>\n",
        "      <td> 74.42</td>\n",
        "      <td> 75.04</td>\n",
        "      <td> 73.81</td>\n",
        "      <td> 74.22</td>\n",
        "      <td> 116739700</td>\n",
        "      <td> 10.13</td>\n",
        "    </tr>\n",
        "  </tbody>\n",
        "</table>\n",
        "<p>5 rows \u00d7 6 columns</p>\n",
        "</div>"
       ],
       "metadata": {},
       "output_type": "pyout",
       "prompt_number": 338,
       "text": [
        "             Open   High    Low  Close     Volume  Adj Close\n",
        "Date                                                        \n",
        "2006-10-02  75.10  75.87  74.30  74.86  178159800      10.22\n",
        "2006-10-03  74.45  74.95  73.19  74.08  197677200      10.12\n",
        "2006-10-04  74.10  75.46  73.16  75.38  207270700      10.29\n",
        "2006-10-05  74.53  76.16  74.13  74.83  170970800      10.22\n",
        "2006-10-06  74.42  75.04  73.81  74.22  116739700      10.13\n",
        "\n",
        "[5 rows x 6 columns]"
       ]
      }
     ],
     "prompt_number": 338
    },
    {
     "cell_type": "markdown",
     "metadata": {},
     "source": [
      "Common Financial Computations\n",
      "-----------------------------\n",
      "\n",
      "* Moving Average\n",
      "* Returns"
     ]
    },
    {
     "cell_type": "code",
     "collapsed": false,
     "input": [
      "close_px = df['Adj Close']\n"
     ],
     "language": "python",
     "metadata": {},
     "outputs": [
      {
       "ename": "KeyError",
       "evalue": "u'no item named Adj Open'",
       "output_type": "pyerr",
       "traceback": [
        "\u001b[1;31m---------------------------------------------------------------------------\u001b[0m\n\u001b[1;31mKeyError\u001b[0m                                  Traceback (most recent call last)",
        "\u001b[1;32m<ipython-input-339-c71969ac0a56>\u001b[0m in \u001b[0;36m<module>\u001b[1;34m()\u001b[0m\n\u001b[0;32m      1\u001b[0m \u001b[0mclose_px\u001b[0m \u001b[1;33m=\u001b[0m \u001b[0mdf\u001b[0m\u001b[1;33m[\u001b[0m\u001b[1;34m'Adj Close'\u001b[0m\u001b[1;33m]\u001b[0m\u001b[1;33m\u001b[0m\u001b[0m\n\u001b[1;32m----> 2\u001b[1;33m \u001b[0mopen_px\u001b[0m \u001b[1;33m=\u001b[0m \u001b[0mdf\u001b[0m\u001b[1;33m[\u001b[0m\u001b[1;34m'Adj Open'\u001b[0m\u001b[1;33m]\u001b[0m\u001b[1;33m\u001b[0m\u001b[0m\n\u001b[0m",
        "\u001b[1;32m/home/henry/anaconda/lib/python2.7/site-packages/pandas/core/frame.pyc\u001b[0m in \u001b[0;36m__getitem__\u001b[1;34m(self, key)\u001b[0m\n\u001b[0;32m   1656\u001b[0m             \u001b[1;32mreturn\u001b[0m \u001b[0mself\u001b[0m\u001b[1;33m.\u001b[0m\u001b[0m_getitem_multilevel\u001b[0m\u001b[1;33m(\u001b[0m\u001b[0mkey\u001b[0m\u001b[1;33m)\u001b[0m\u001b[1;33m\u001b[0m\u001b[0m\n\u001b[0;32m   1657\u001b[0m         \u001b[1;32melse\u001b[0m\u001b[1;33m:\u001b[0m\u001b[1;33m\u001b[0m\u001b[0m\n\u001b[1;32m-> 1658\u001b[1;33m             \u001b[1;32mreturn\u001b[0m \u001b[0mself\u001b[0m\u001b[1;33m.\u001b[0m\u001b[0m_getitem_column\u001b[0m\u001b[1;33m(\u001b[0m\u001b[0mkey\u001b[0m\u001b[1;33m)\u001b[0m\u001b[1;33m\u001b[0m\u001b[0m\n\u001b[0m\u001b[0;32m   1659\u001b[0m \u001b[1;33m\u001b[0m\u001b[0m\n\u001b[0;32m   1660\u001b[0m     \u001b[1;32mdef\u001b[0m \u001b[0m_getitem_column\u001b[0m\u001b[1;33m(\u001b[0m\u001b[0mself\u001b[0m\u001b[1;33m,\u001b[0m \u001b[0mkey\u001b[0m\u001b[1;33m)\u001b[0m\u001b[1;33m:\u001b[0m\u001b[1;33m\u001b[0m\u001b[0m\n",
        "\u001b[1;32m/home/henry/anaconda/lib/python2.7/site-packages/pandas/core/frame.pyc\u001b[0m in \u001b[0;36m_getitem_column\u001b[1;34m(self, key)\u001b[0m\n\u001b[0;32m   1663\u001b[0m         \u001b[1;31m# get column\u001b[0m\u001b[1;33m\u001b[0m\u001b[1;33m\u001b[0m\u001b[0m\n\u001b[0;32m   1664\u001b[0m         \u001b[1;32mif\u001b[0m \u001b[0mself\u001b[0m\u001b[1;33m.\u001b[0m\u001b[0mcolumns\u001b[0m\u001b[1;33m.\u001b[0m\u001b[0mis_unique\u001b[0m\u001b[1;33m:\u001b[0m\u001b[1;33m\u001b[0m\u001b[0m\n\u001b[1;32m-> 1665\u001b[1;33m             \u001b[1;32mreturn\u001b[0m \u001b[0mself\u001b[0m\u001b[1;33m.\u001b[0m\u001b[0m_get_item_cache\u001b[0m\u001b[1;33m(\u001b[0m\u001b[0mkey\u001b[0m\u001b[1;33m)\u001b[0m\u001b[1;33m\u001b[0m\u001b[0m\n\u001b[0m\u001b[0;32m   1666\u001b[0m \u001b[1;33m\u001b[0m\u001b[0m\n\u001b[0;32m   1667\u001b[0m         \u001b[1;31m# duplicate columns & possible reduce dimensionaility\u001b[0m\u001b[1;33m\u001b[0m\u001b[1;33m\u001b[0m\u001b[0m\n",
        "\u001b[1;32m/home/henry/anaconda/lib/python2.7/site-packages/pandas/core/generic.pyc\u001b[0m in \u001b[0;36m_get_item_cache\u001b[1;34m(self, item)\u001b[0m\n\u001b[0;32m   1003\u001b[0m         \u001b[0mres\u001b[0m \u001b[1;33m=\u001b[0m \u001b[0mcache\u001b[0m\u001b[1;33m.\u001b[0m\u001b[0mget\u001b[0m\u001b[1;33m(\u001b[0m\u001b[0mitem\u001b[0m\u001b[1;33m)\u001b[0m\u001b[1;33m\u001b[0m\u001b[0m\n\u001b[0;32m   1004\u001b[0m         \u001b[1;32mif\u001b[0m \u001b[0mres\u001b[0m \u001b[1;32mis\u001b[0m \u001b[0mNone\u001b[0m\u001b[1;33m:\u001b[0m\u001b[1;33m\u001b[0m\u001b[0m\n\u001b[1;32m-> 1005\u001b[1;33m             \u001b[0mvalues\u001b[0m \u001b[1;33m=\u001b[0m \u001b[0mself\u001b[0m\u001b[1;33m.\u001b[0m\u001b[0m_data\u001b[0m\u001b[1;33m.\u001b[0m\u001b[0mget\u001b[0m\u001b[1;33m(\u001b[0m\u001b[0mitem\u001b[0m\u001b[1;33m)\u001b[0m\u001b[1;33m\u001b[0m\u001b[0m\n\u001b[0m\u001b[0;32m   1006\u001b[0m             \u001b[0mres\u001b[0m \u001b[1;33m=\u001b[0m \u001b[0mself\u001b[0m\u001b[1;33m.\u001b[0m\u001b[0m_box_item_values\u001b[0m\u001b[1;33m(\u001b[0m\u001b[0mitem\u001b[0m\u001b[1;33m,\u001b[0m \u001b[0mvalues\u001b[0m\u001b[1;33m)\u001b[0m\u001b[1;33m\u001b[0m\u001b[0m\n\u001b[0;32m   1007\u001b[0m             \u001b[0mcache\u001b[0m\u001b[1;33m[\u001b[0m\u001b[0mitem\u001b[0m\u001b[1;33m]\u001b[0m \u001b[1;33m=\u001b[0m \u001b[0mres\u001b[0m\u001b[1;33m\u001b[0m\u001b[0m\n",
        "\u001b[1;32m/home/henry/anaconda/lib/python2.7/site-packages/pandas/core/internals.pyc\u001b[0m in \u001b[0;36mget\u001b[1;34m(self, item)\u001b[0m\n\u001b[0;32m   2871\u001b[0m                 \u001b[1;32mreturn\u001b[0m \u001b[0mself\u001b[0m\u001b[1;33m.\u001b[0m\u001b[0mget_for_nan_indexer\u001b[0m\u001b[1;33m(\u001b[0m\u001b[0mindexer\u001b[0m\u001b[1;33m)\u001b[0m\u001b[1;33m\u001b[0m\u001b[0m\n\u001b[0;32m   2872\u001b[0m \u001b[1;33m\u001b[0m\u001b[0m\n\u001b[1;32m-> 2873\u001b[1;33m             \u001b[0m_\u001b[0m\u001b[1;33m,\u001b[0m \u001b[0mblock\u001b[0m \u001b[1;33m=\u001b[0m \u001b[0mself\u001b[0m\u001b[1;33m.\u001b[0m\u001b[0m_find_block\u001b[0m\u001b[1;33m(\u001b[0m\u001b[0mitem\u001b[0m\u001b[1;33m)\u001b[0m\u001b[1;33m\u001b[0m\u001b[0m\n\u001b[0m\u001b[0;32m   2874\u001b[0m             \u001b[1;32mreturn\u001b[0m \u001b[0mblock\u001b[0m\u001b[1;33m.\u001b[0m\u001b[0mget\u001b[0m\u001b[1;33m(\u001b[0m\u001b[0mitem\u001b[0m\u001b[1;33m)\u001b[0m\u001b[1;33m\u001b[0m\u001b[0m\n\u001b[0;32m   2875\u001b[0m         \u001b[1;32melse\u001b[0m\u001b[1;33m:\u001b[0m\u001b[1;33m\u001b[0m\u001b[0m\n",
        "\u001b[1;32m/home/henry/anaconda/lib/python2.7/site-packages/pandas/core/internals.pyc\u001b[0m in \u001b[0;36m_find_block\u001b[1;34m(self, item)\u001b[0m\n\u001b[0;32m   3183\u001b[0m \u001b[1;33m\u001b[0m\u001b[0m\n\u001b[0;32m   3184\u001b[0m     \u001b[1;32mdef\u001b[0m \u001b[0m_find_block\u001b[0m\u001b[1;33m(\u001b[0m\u001b[0mself\u001b[0m\u001b[1;33m,\u001b[0m \u001b[0mitem\u001b[0m\u001b[1;33m)\u001b[0m\u001b[1;33m:\u001b[0m\u001b[1;33m\u001b[0m\u001b[0m\n\u001b[1;32m-> 3185\u001b[1;33m         \u001b[0mself\u001b[0m\u001b[1;33m.\u001b[0m\u001b[0m_check_have\u001b[0m\u001b[1;33m(\u001b[0m\u001b[0mitem\u001b[0m\u001b[1;33m)\u001b[0m\u001b[1;33m\u001b[0m\u001b[0m\n\u001b[0m\u001b[0;32m   3186\u001b[0m         \u001b[1;32mfor\u001b[0m \u001b[0mi\u001b[0m\u001b[1;33m,\u001b[0m \u001b[0mblock\u001b[0m \u001b[1;32min\u001b[0m \u001b[0menumerate\u001b[0m\u001b[1;33m(\u001b[0m\u001b[0mself\u001b[0m\u001b[1;33m.\u001b[0m\u001b[0mblocks\u001b[0m\u001b[1;33m)\u001b[0m\u001b[1;33m:\u001b[0m\u001b[1;33m\u001b[0m\u001b[0m\n\u001b[0;32m   3187\u001b[0m             \u001b[1;32mif\u001b[0m \u001b[0mitem\u001b[0m \u001b[1;32min\u001b[0m \u001b[0mblock\u001b[0m\u001b[1;33m:\u001b[0m\u001b[1;33m\u001b[0m\u001b[0m\n",
        "\u001b[1;32m/home/henry/anaconda/lib/python2.7/site-packages/pandas/core/internals.pyc\u001b[0m in \u001b[0;36m_check_have\u001b[1;34m(self, item)\u001b[0m\n\u001b[0;32m   3190\u001b[0m     \u001b[1;32mdef\u001b[0m \u001b[0m_check_have\u001b[0m\u001b[1;33m(\u001b[0m\u001b[0mself\u001b[0m\u001b[1;33m,\u001b[0m \u001b[0mitem\u001b[0m\u001b[1;33m)\u001b[0m\u001b[1;33m:\u001b[0m\u001b[1;33m\u001b[0m\u001b[0m\n\u001b[0;32m   3191\u001b[0m         \u001b[1;32mif\u001b[0m \u001b[0mitem\u001b[0m \u001b[1;32mnot\u001b[0m \u001b[1;32min\u001b[0m \u001b[0mself\u001b[0m\u001b[1;33m.\u001b[0m\u001b[0mitems\u001b[0m\u001b[1;33m:\u001b[0m\u001b[1;33m\u001b[0m\u001b[0m\n\u001b[1;32m-> 3192\u001b[1;33m             \u001b[1;32mraise\u001b[0m \u001b[0mKeyError\u001b[0m\u001b[1;33m(\u001b[0m\u001b[1;34m'no item named %s'\u001b[0m \u001b[1;33m%\u001b[0m \u001b[0mcom\u001b[0m\u001b[1;33m.\u001b[0m\u001b[0mpprint_thing\u001b[0m\u001b[1;33m(\u001b[0m\u001b[0mitem\u001b[0m\u001b[1;33m)\u001b[0m\u001b[1;33m)\u001b[0m\u001b[1;33m\u001b[0m\u001b[0m\n\u001b[0m\u001b[0;32m   3193\u001b[0m \u001b[1;33m\u001b[0m\u001b[0m\n\u001b[0;32m   3194\u001b[0m     def reindex_axis(self, new_axis, indexer=None, method=None, axis=0,\n",
        "\u001b[1;31mKeyError\u001b[0m: u'no item named Adj Open'"
       ]
      }
     ],
     "prompt_number": 339
    },
    {
     "cell_type": "code",
     "collapsed": false,
     "input": [
      "mavg = pd.rolling_mean(close_px, 40)\n",
      "mavg[-10:]\n",
      "avgOpen = pd.rolling_mean(open_px, 40)\n"
     ],
     "language": "python",
     "metadata": {},
     "outputs": []
    },
    {
     "cell_type": "markdown",
     "metadata": {},
     "source": [
      "Returns defined as: \n",
      "$$ $$\n",
      "$$r_t = \\frac{p_t - p_{t-1}}{p_{t-1}} = \\frac{p_t}{p_{t-1}} - 1$$"
     ]
    },
    {
     "cell_type": "code",
     "collapsed": false,
     "input": [
      "rets = close_px / close_px.shift(1) - 1\n",
      "rets.head()"
     ],
     "language": "python",
     "metadata": {},
     "outputs": []
    },
    {
     "cell_type": "markdown",
     "metadata": {},
     "source": [
      "Or alternatively `.pct_change()`."
     ]
    },
    {
     "cell_type": "code",
     "collapsed": false,
     "input": [
      "close_px.pct_change().head()"
     ],
     "language": "python",
     "metadata": {},
     "outputs": []
    },
    {
     "cell_type": "markdown",
     "metadata": {},
     "source": [
      "Plotting Basics\n",
      "---------------"
     ]
    },
    {
     "cell_type": "markdown",
     "metadata": {},
     "source": [
      "Series and DataFrames have an associated `.plot()` command (uses Matplotlib behind the scenes)."
     ]
    },
    {
     "cell_type": "code",
     "collapsed": false,
     "input": [
      "close_px.plot(label='AAPL')\n",
      "mavg.plot(label='mavg')\n",
      "avgOpen.plot(label = 'avgOpen')\n",
      "plt.legend()"
     ],
     "language": "python",
     "metadata": {},
     "outputs": []
    },
    {
     "cell_type": "heading",
     "level": 2,
     "metadata": {},
     "source": [
      "Optional: If there is time..."
     ]
    },
    {
     "cell_type": "code",
     "collapsed": false,
     "input": [
      "df = pd.io.data.get_data_yahoo(['AAPL', 'GE', 'IBM', 'KO', 'MSFT', 'PEP'], \n",
      "                               start=datetime.datetime(2010, 1, 1), \n",
      "                               end=datetime.datetime(2013, 1, 1))['Adj Close']\n",
      "df.head()"
     ],
     "language": "python",
     "metadata": {},
     "outputs": []
    },
    {
     "cell_type": "code",
     "collapsed": false,
     "input": [
      "df['AAPL'].std()"
     ],
     "language": "python",
     "metadata": {},
     "outputs": []
    },
    {
     "cell_type": "code",
     "collapsed": false,
     "input": [
      "df['IBM'].std()"
     ],
     "language": "python",
     "metadata": {},
     "outputs": []
    },
    {
     "cell_type": "code",
     "collapsed": false,
     "input": [
      "rets = df.pct_change()"
     ],
     "language": "python",
     "metadata": {},
     "outputs": []
    },
    {
     "cell_type": "code",
     "collapsed": false,
     "input": [
      "plt.scatter(rets.PEP, rets.KO)\n",
      "plt.xlabel('Returns PEP')\n",
      "plt.ylabel('Returns KO')"
     ],
     "language": "python",
     "metadata": {},
     "outputs": []
    },
    {
     "cell_type": "code",
     "collapsed": false,
     "input": [
      "pd.scatter_matrix(rets, diagonal='kde', figsize=(10, 10));"
     ],
     "language": "python",
     "metadata": {},
     "outputs": []
    },
    {
     "cell_type": "code",
     "collapsed": false,
     "input": [
      "corr = rets.corr()\n",
      "corr"
     ],
     "language": "python",
     "metadata": {},
     "outputs": []
    },
    {
     "cell_type": "code",
     "collapsed": false,
     "input": [
      "plt.imshow(corr, cmap='hot', interpolation='none')\n",
      "plt.colorbar()\n",
      "plt.xticks(range(len(corr)), corr.columns)\n",
      "plt.yticks(range(len(corr)), corr.columns);"
     ],
     "language": "python",
     "metadata": {},
     "outputs": []
    },
    {
     "cell_type": "markdown",
     "metadata": {},
     "source": [
      "One thing we are often interested in is the relationship of expected returns and the risk we are taking one. Often there is a trade-off between the two.\n",
      "\n",
      "Here we use `plt.annotate` to put labels on the scatterplot."
     ]
    },
    {
     "cell_type": "code",
     "collapsed": false,
     "input": [
      "plt.scatter(rets.mean(), rets.std())\n",
      "plt.xlabel('Expected returns')\n",
      "plt.ylabel('Risk')\n",
      "for label, x, y in zip(rets.columns, rets.mean(), rets.std()):\n",
      "    plt.annotate(\n",
      "        label, \n",
      "        xy = (x, y), xytext = (20, -20),\n",
      "        textcoords = 'offset points', ha = 'right', va = 'bottom',\n",
      "        bbox = dict(boxstyle = 'round,pad=0.5', fc = 'yellow', alpha = 0.5),\n",
      "        arrowprops = dict(arrowstyle = '->', connectionstyle = 'arc3,rad=0'))"
     ],
     "language": "python",
     "metadata": {},
     "outputs": []
    },
    {
     "cell_type": "markdown",
     "metadata": {},
     "source": [
      "Data alignment and dealing with missing values\n",
      "==============\n",
      "\n",
      "* Join, merge, concatenate\n",
      "* Filling NaNs"
     ]
    },
    {
     "cell_type": "markdown",
     "metadata": {},
     "source": [
      "Lets pull some more securities from Yahoo finance and build a DataFrame of the adjusted closing prices."
     ]
    },
    {
     "cell_type": "code",
     "collapsed": false,
     "input": [
      "series_list = []\n",
      "securities = ['AAPL', 'IBM', 'MSFT', 'PEP']\n",
      "for security in securities:\n",
      "    s = pd.io.data.get_data_yahoo(security, start=datetime.datetime(2011, 10, 1), end=datetime.datetime(2013, 1, 1))['Adj Close']\n",
      "    s.name = security # Rename series to match security name\n",
      "    series_list.append(s)"
     ],
     "language": "python",
     "metadata": {},
     "outputs": []
    },
    {
     "cell_type": "markdown",
     "metadata": {},
     "source": [
      "`pd.concat` can be used to concatenate multiple `Series` into one `DataFrame`."
     ]
    },
    {
     "cell_type": "code",
     "collapsed": false,
     "input": [
      "df = pd.concat(series_list, axis=1)\n",
      "df.head()"
     ],
     "language": "python",
     "metadata": {},
     "outputs": []
    },
    {
     "cell_type": "code",
     "collapsed": false,
     "input": [
      "df.ix[0, 'AAPL'] = np.nan\n",
      "df.ix[1, ['PEP', 'IBM']] = np.nan\n",
      "df.ix[[1, 2, 3], 'MSFT'] = np.nan\n",
      "\n",
      "df.head()"
     ],
     "language": "python",
     "metadata": {},
     "outputs": []
    },
    {
     "cell_type": "markdown",
     "metadata": {},
     "source": [
      "Pandas has great support for computing with missing values."
     ]
    },
    {
     "cell_type": "code",
     "collapsed": false,
     "input": [
      "(df.AAPL + df.PEP).head()"
     ],
     "language": "python",
     "metadata": {},
     "outputs": []
    },
    {
     "cell_type": "markdown",
     "metadata": {},
     "source": [
      "One common approacht to impute missing values in time series is forward filling."
     ]
    },
    {
     "cell_type": "code",
     "collapsed": false,
     "input": [
      "df.ffill().head()"
     ],
     "language": "python",
     "metadata": {},
     "outputs": []
    },
    {
     "cell_type": "code",
     "collapsed": false,
     "input": [],
     "language": "python",
     "metadata": {},
     "outputs": []
    },
    {
     "cell_type": "code",
     "collapsed": false,
     "input": [],
     "language": "python",
     "metadata": {},
     "outputs": []
    }
   ],
   "metadata": {}
  }
 ]
}